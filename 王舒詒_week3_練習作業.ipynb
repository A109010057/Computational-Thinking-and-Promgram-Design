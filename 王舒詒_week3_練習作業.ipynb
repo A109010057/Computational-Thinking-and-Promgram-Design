{
  "nbformat": 4,
  "nbformat_minor": 0,
  "metadata": {
    "colab": {
      "name": " 王舒詒-week3-練習作業",
      "provenance": [],
      "collapsed_sections": [],
      "include_colab_link": true
    },
    "kernelspec": {
      "display_name": "Python 3",
      "name": "python3"
    }
  },
  "cells": [
    {
      "cell_type": "markdown",
      "metadata": {
        "id": "view-in-github",
        "colab_type": "text"
      },
      "source": [
        "<a href=\"https://colab.research.google.com/github/A109010057/Computational-Thinking-and-Promgram-Design/blob/main/%E7%8E%8B%E8%88%92%E8%A9%92_week3_%E7%B7%B4%E7%BF%92%E4%BD%9C%E6%A5%AD.ipynb\" target=\"_parent\"><img src=\"https://colab.research.google.com/assets/colab-badge.svg\" alt=\"Open In Colab\"/></a>"
      ]
    },
    {
      "cell_type": "markdown",
      "metadata": {
        "id": "7q-3fHOiPQ0t"
      },
      "source": [
        "#隨堂練習"
      ]
    },
    {
      "cell_type": "markdown",
      "metadata": {
        "id": "2_4DQg4MSnNT"
      },
      "source": [
        "1.電腦都是由硬體跟軟體組成\r\n",
        "2.計算用硬碟:CPU中央處理器、FPU浮點運算器、GPU圖形處理器\r\n",
        "3.應用軟體+系統軟體(公開程式+程式開發工具+作業系統)+電腦硬體\r\n",
        "4.程式語言是介於自然語言跟二進位法之間的一種語言\r\n",
        "5.程式語言的用途就是要限制自然語言的多種說法\r\n",
        "6.運算思維是一種透過思考找到答案的過程\r\n",
        "7.運算思維:問題拆解、抽象化、模式辨識、演算法\r\n",
        "8.運算思維ANALYZE PROBLEM、程式設計DESIGH、程式編碼CODING、測試除錯TEST&DEBUG\r\n",
        "9.學習運算思維主要是要學其中的思考模式，並不只是學寫程式而已。"
      ]
    },
    {
      "cell_type": "markdown",
      "metadata": {
        "id": "1VjLrvkgPVjk"
      },
      "source": [
        "#課後作業"
      ]
    },
    {
      "cell_type": "markdown",
      "metadata": {
        "id": "BOM7X4nxPZI0"
      },
      "source": [
        "從一則新聞報導中，提出你對新聞系的學生為什麼要學運算思維與程式設計的見解?"
      ]
    },
    {
      "cell_type": "markdown",
      "metadata": {
        "id": "A3xYn88fPsNT"
      },
      "source": [
        "https://www.inside.com.tw/feature/digi-plus/20588-digi-plus-ai-programming-language"
      ]
    },
    {
      "cell_type": "markdown",
      "metadata": {
        "id": "jcjETCfjRNyY"
      },
      "source": [
        "因為現在是e世代，以前的人是要學英文才能跟全世界溝通，但現在人手一機的時代，程式設計似乎跟當時的英文佔有一樣重要的地位了。現在的我們不管是什麼科系，若不學程式設計的話，將會被時代的洪流吞噬，跟不上時代的後果就是會被自動淘汰。所有的大國都在推動AI的潮流，專家也提到，程式語言不只是幫助大家寫出程式，而是透過YES/NO或是AND/OR的抉擇過程中，完成一項完整的思考。"
      ]
    }
  ]
}