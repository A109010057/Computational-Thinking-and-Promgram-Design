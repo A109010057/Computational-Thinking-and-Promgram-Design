{
  "nbformat": 4,
  "nbformat_minor": 0,
  "metadata": {
    "kernelspec": {
      "display_name": "Python 3",
      "language": "python",
      "name": "python3"
    },
    "language_info": {
      "codemirror_mode": {
        "name": "ipython",
        "version": 3
      },
      "file_extension": ".py",
      "mimetype": "text/x-python",
      "name": "python",
      "nbconvert_exporter": "python",
      "pygments_lexer": "ipython3",
      "version": "3.8.5"
    },
    "colab": {
      "name": "王舒詒-week8-課後練習.ipynb",
      "provenance": [],
      "include_colab_link": true
    }
  },
  "cells": [
    {
      "cell_type": "markdown",
      "metadata": {
        "id": "view-in-github",
        "colab_type": "text"
      },
      "source": [
        "<a href=\"https://colab.research.google.com/github/A109010057/Computational-Thinking-and-Promgram-Design/blob/main/%E7%8E%8B%E8%88%92%E8%A9%92_week8_%E8%AA%B2%E5%BE%8C%E7%B7%B4%E7%BF%92.ipynb\" target=\"_parent\"><img src=\"https://colab.research.google.com/assets/colab-badge.svg\" alt=\"Open In Colab\"/></a>"
      ]
    },
    {
      "cell_type": "markdown",
      "metadata": {
        "id": "tfs7MJ4UnKp2"
      },
      "source": [
        "# 練習題題庫"
      ]
    },
    {
      "cell_type": "markdown",
      "metadata": {
        "id": "8ZCMaUE4nKp8"
      },
      "source": [
        "**練習12：格式化輸出，明星檔案**\n",
        "\n",
        "用Python語言編制一個明星檔案，帶你認識創造Python程式語言的大神！"
      ]
    },
    {
      "cell_type": "code",
      "metadata": {
        "id": "al_7GBdFnKp-",
        "colab": {
          "base_uri": "https://localhost:8080/"
        },
        "outputId": "216a561d-9f0e-423e-ede5-0f8112c9e085"
      },
      "source": [
        "In [1]: name = \"李東海\"\n",
        "...: birthday = \"1986年10月15日\"\n",
        "...: birthdayplace = \"南韓木浦\"\n",
        "...: occupation = \"偶像歌手\"\n",
        "...: print(\"Superjunior成員檔案:\\n　姓名:{}\\n　生日:{}\\n　國籍:{}\\n　職業:{}\".format(name,birthday,birthdayplace,occupation))"
      ],
      "execution_count": 3,
      "outputs": [
        {
          "output_type": "stream",
          "text": [
            "Superjunior成員檔案:\n",
            "　姓名:李東海\n",
            "　生日:1986年10月15日\n",
            "　國籍:南韓木浦\n",
            "　職業:偶像歌手\n"
          ],
          "name": "stdout"
        }
      ]
    },
    {
      "cell_type": "markdown",
      "metadata": {
        "id": "WSnfKZycnKp-"
      },
      "source": [
        "**練習15：長跑健將**\n",
        "\n",
        "梁小星很喜歡運動，每天都堅持跑步5公里，為此他還買了一個手環。觀看手環可以記錄步數、距離、速度、時間等數據。梁小星想用Python寫一個統計時間的程式，你可以幫幫他嗎？(06'32, 07'21, 05,51, 07'03, 05'48)\n"
      ]
    },
    {
      "cell_type": "code",
      "metadata": {
        "id": "Ns3JhIHinKp-",
        "colab": {
          "base_uri": "https://localhost:8080/"
        },
        "outputId": "09fc3757-c297-4223-dc7f-fa402839ffd5"
      },
      "source": [
        "sum = 6*60 + 32\n",
        "print(\"用時\",sum//60,\"分\",sum%60,\"秒\")\n",
        "\n",
        "sum = sum + 7*60 + 21\n",
        "print(\"用時\",sum//60,\"分\",sum%60,\"秒\")\n",
        "\n",
        "sum = sum + 5*60 + 51\n",
        "print(\"用時\",sum//60,\"分\",sum%60,\"秒\")\n",
        "\n",
        "sum = sum + 7*60 + 3\n",
        "print(\"用時\",sum//60,\"分\",sum%60,\"秒\")\n",
        "\n",
        "sum = sum + 5*60 + 48\n",
        "print(\"用時\",sum//60,\"分\",sum%60,\"秒\")"
      ],
      "execution_count": 4,
      "outputs": [
        {
          "output_type": "stream",
          "text": [
            "用時 6 分 32 秒\n",
            "用時 13 分 53 秒\n",
            "用時 19 分 44 秒\n",
            "用時 26 分 47 秒\n",
            "用時 32 分 35 秒\n"
          ],
          "name": "stdout"
        }
      ]
    },
    {
      "cell_type": "code",
      "metadata": {
        "id": "OoADedyPqA9-"
      },
      "source": [
        ""
      ],
      "execution_count": null,
      "outputs": []
    }
  ]
}