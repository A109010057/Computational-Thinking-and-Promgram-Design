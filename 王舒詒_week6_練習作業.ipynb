{
  "nbformat": 4,
  "nbformat_minor": 0,
  "metadata": {
    "colab": {
      "name": "王舒詒-week6-練習作業.ipynb",
      "provenance": [],
      "authorship_tag": "ABX9TyOs1DEaqXNoIcU6m1pErBcZ",
      "include_colab_link": true
    },
    "kernelspec": {
      "name": "python3",
      "display_name": "Python 3"
    },
    "language_info": {
      "name": "python"
    }
  },
  "cells": [
    {
      "cell_type": "markdown",
      "metadata": {
        "id": "view-in-github",
        "colab_type": "text"
      },
      "source": [
        "<a href=\"https://colab.research.google.com/github/A109010057/Computational-Thinking-and-Promgram-Design/blob/main/%E7%8E%8B%E8%88%92%E8%A9%92_week6_%E7%B7%B4%E7%BF%92%E4%BD%9C%E6%A5%AD.ipynb\" target=\"_parent\"><img src=\"https://colab.research.google.com/assets/colab-badge.svg\" alt=\"Open In Colab\"/></a>"
      ]
    },
    {
      "cell_type": "code",
      "metadata": {
        "colab": {
          "base_uri": "https://localhost:8080/"
        },
        "id": "Mxl3FFPbaXq4",
        "outputId": "da3ce4a9-112f-4a64-b000-2c43cebc2aa3"
      },
      "source": [
        "name = \"leedonghae\"\n",
        "adj = \"cuteeee\"\n",
        "snake = \"cake\"\n",
        "number = \"3000\"\n",
        "tree = \"apple tree\"\n",
        "\n",
        "silly_story = f\"\"\"\n",
        "hi, my name is {name}.\n",
        "i really like {adj}{snake}!\n",
        "i like it so much, i try to eat it at least {number} time every day.\n",
        "it taste even better when you eat it under a {tree}!\n",
        "\"\"\"\n",
        "\n",
        "print(silly_story)"
      ],
      "execution_count": null,
      "outputs": [
        {
          "output_type": "stream",
          "text": [
            "\n",
            "hi, my name is leedonghae.\n",
            "i really like cuteeeecake!\n",
            "i like it so much, i try to eat it at least 3000 time every day.\n",
            "it taste even better when you eat it under a apple tree!\n",
            "\n"
          ],
          "name": "stdout"
        }
      ]
    },
    {
      "cell_type": "code",
      "metadata": {
        "id": "SrpMjayPbh6y"
      },
      "source": [
        ""
      ],
      "execution_count": null,
      "outputs": []
    }
  ]
}