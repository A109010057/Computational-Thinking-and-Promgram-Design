{
  "nbformat": 4,
  "nbformat_minor": 0,
  "metadata": {
    "kernelspec": {
      "display_name": "Python 3",
      "language": "python",
      "name": "python3"
    },
    "language_info": {
      "codemirror_mode": {
        "name": "ipython",
        "version": 3
      },
      "file_extension": ".py",
      "mimetype": "text/x-python",
      "name": "python",
      "nbconvert_exporter": "python",
      "pygments_lexer": "ipython3",
      "version": "3.8.5"
    },
    "colab": {
      "name": "王舒詒-Week10-作業.ipynb",
      "provenance": [],
      "include_colab_link": true
    }
  },
  "cells": [
    {
      "cell_type": "markdown",
      "metadata": {
        "id": "view-in-github",
        "colab_type": "text"
      },
      "source": [
        "<a href=\"https://colab.research.google.com/github/A109010057/Computational-Thinking-and-Promgram-Design/blob/main/%E7%8E%8B%E8%88%92%E8%A9%92_Week10_%E4%BD%9C%E6%A5%AD.ipynb\" target=\"_parent\"><img src=\"https://colab.research.google.com/assets/colab-badge.svg\" alt=\"Open In Colab\"/></a>"
      ]
    },
    {
      "cell_type": "markdown",
      "metadata": {
        "id": "RcbRrEa5j_tD"
      },
      "source": [
        "# 基本程式設計(應用篇)"
      ]
    },
    {
      "cell_type": "markdown",
      "metadata": {
        "id": "RZ_7k5szj_tK"
      },
      "source": [
        "### 4-2 運算思維四個基石"
      ]
    },
    {
      "cell_type": "markdown",
      "metadata": {
        "id": "TFYUf1b1j_tL"
      },
      "source": [
        "#### 4-2-4  問題拆解 - 打造你的聊天機器人"
      ]
    },
    {
      "cell_type": "markdown",
      "metadata": {
        "id": "PUNIYeCDj_tL"
      },
      "source": [
        "「哈囉，大家好。我叫Zyxo64，是一個聊天機器人。\n",
        "\n",
        "在嗜好與興趣方面，我很喜歡美食，也喜歡養動物。\n",
        "\n",
        "很高興有機會來到世新大學，請大家多多指教。\n",
        "\n",
        "嗨！妳好，請問大名？：Francis。\n",
        "\n",
        "Francis，很高興認識你。"
      ]
    },
    {
      "cell_type": "code",
      "metadata": {
        "colab": {
          "base_uri": "https://localhost:8080/"
        },
        "id": "i6fJRHOsj_tM",
        "outputId": "c2011467-62e6-4d05-eb59-0610278befae"
      },
      "source": [
        "# 1.聊天機器人自我介紹\n",
        "hello = \"哈囉，大家好。我叫leedonghae，是一個聊天機器人。\"\n",
        "habit = \"在嗜好與興趣方面，我很喜歡美食，也喜歡養動物\"\n",
        "print(hello)\n",
        "print(habit)\n",
        "print(\"很高興有機會來到世新大學，請大家多多指教\")\n",
        "# 2. 打招呼，取得對方名字\n",
        "name = input(\"嗨！妳好，請問大名？\")\n",
        "print(\"你好\",name,\"很高興認識你。\")"
      ],
      "execution_count": 22,
      "outputs": [
        {
          "output_type": "stream",
          "text": [
            "哈囉，大家好。我叫leedonghae，是一個聊天機器人。\n",
            "在嗜好與興趣方面，我很喜歡美食，也喜歡養動物\n",
            "很高興有機會來到世新大學，請大家多多指教\n",
            "嗨！妳好，請問大名？ingird\n",
            "你好 ingird 很高興認識你。\n"
          ],
          "name": "stdout"
        }
      ]
    },
    {
      "cell_type": "markdown",
      "metadata": {
        "id": "tPMhB5dlj_tM"
      },
      "source": [
        "抱歉，請問一下今年是西元2021年，那是民國幾年呢？：*110*。\n",
        "\n",
        "對！沒錯，謝謝妳！\n",
        "\n",
        "**Francis**，猜猜看我今年幾歲？ ：**18**。\n",
        "\n",
        "哇！你好聰明，我今年的確*18*。\n",
        "\n",
        "再82年我就100歲了。\n",
        "\n",
        "那時候是西元 2103年，也就是民國192年囉！"
      ]
    },
    {
      "cell_type": "code",
      "metadata": {
        "colab": {
          "base_uri": "https://localhost:8080/"
        },
        "id": "IdHKLIOjj_tM",
        "outputId": "6b5b2dd4-d648-49d2-e00c-a0cd4a8656b1"
      },
      "source": [
        "# 3. 數學運算\n",
        "## 3-1 從使用者取得今年年份\n",
        "year = input(\"請問一下今年是西元2021年，那是民國幾年呢？\")\n",
        "print(\"對!沒錯謝謝你!\")\n",
        "\n",
        "## 3-2 請使用者猜年齡\n",
        "age = input(\"leedonghae，猜猜看我今年幾歲？\")\n",
        "print(\"哇！你好聰明，我今年的確\",age,\"歲\")\n",
        "\n",
        "## 3-3 計算聊天機器人滿100歲的年份\n",
        "nyears = 100 - int(age)\n",
        "print(f\"再{nyears}年就滿100歲了\")\n",
        "print(f\"到時候就是西元{int(year) + nyears + 1911}年\")\n"
      ],
      "execution_count": 23,
      "outputs": [
        {
          "output_type": "stream",
          "text": [
            "請問一下今年是西元2021年，那是民國幾年呢？110\n",
            "對!沒錯謝謝你!\n",
            "leedonghae，猜猜看我今年幾歲？56\n",
            "哇！你好聰明，我今年的確 56 歲\n",
            "再44年就滿100歲了\n",
            "到時候就是西元2065年\n"
          ],
          "name": "stdout"
        }
      ]
    },
    {
      "cell_type": "markdown",
      "metadata": {
        "id": "PH08seExj_tN"
      },
      "source": [
        "\n",
        "# 我喜歡吃巧克力，也喜歡嘗試各種新食物。\n",
        "\n",
        "你呢？你最喜歡的食物是什麼？**:披薩**。\n",
        "\n",
        "我也喜歡 *披薩*。\n",
        "\n",
        "你多久吃一次 *披薩*？**：每天**。\n",
        "\n",
        "真有趣。不知道這樣對健康好不好。"
      ]
    },
    {
      "cell_type": "code",
      "metadata": {
        "colab": {
          "base_uri": "https://localhost:8080/"
        },
        "id": "AuDE_3Clj_tN",
        "outputId": "0168ff6f-8d0c-46c5-b728-bf721836b056"
      },
      "source": [
        "# 4 興趣\n",
        "print(\"我喜歡吃巧克力，也喜歡嘗試各種新食物。\")\n",
        "food = input(\"你呢?你最喜歡的食物是什麼？\")\n",
        "print(\"我也喜歡\",food)\n",
        "## 4-1 食物話題\n",
        "question = \"你多久吃一次\" + food +\"?: \"\n",
        "howoften = input(question)\n",
        "print(\"真有趣,不知道這樣對健康好不好?\")"
      ],
      "execution_count": 24,
      "outputs": [
        {
          "output_type": "stream",
          "text": [
            "我喜歡吃巧克力，也喜歡嘗試各種新食物。\n",
            "你呢?你最喜歡的食物是什麼？巧克力\n",
            "我也喜歡 巧克力\n",
            "你多久吃一次巧克力?: 每天\n",
            "真有趣,不知道這樣對健康好不好?\n"
          ],
          "name": "stdout"
        }
      ]
    },
    {
      "cell_type": "markdown",
      "metadata": {
        "id": "5AxgT33Zj_tN"
      },
      "source": [
        "我最喜歡的動物是長頸鹿。你呢？ **：烏龜**。\n",
        "\n",
        "我不喜歡*烏龜*！\n",
        "\n",
        "不知道 *烏龜* 喜不喜歡吃 *披薩*？"
      ]
    },
    {
      "cell_type": "code",
      "metadata": {
        "colab": {
          "base_uri": "https://localhost:8080/"
        },
        "id": "7gIgDLqdj_tO",
        "outputId": "1f645555-9fcb-4b90-e7c2-9a4e8c4f5862"
      },
      "source": [
        "# 4 興趣\n",
        "animal = input(\"我最喜歡的動物是長頸鹿。你呢？\")\n",
        "print(\"我不喜歡\",animal,\"!\")\n",
        "## 4-2 動物話題\n",
        "print(\"不知道\",animal,\"喜不喜歡吃\",food)"
      ],
      "execution_count": 25,
      "outputs": [
        {
          "output_type": "stream",
          "text": [
            "我最喜歡的動物是長頸鹿。你呢？猴子\n",
            "我不喜歡 猴子 !\n",
            "不知道 猴子 喜不喜歡吃 巧克力\n"
          ],
          "name": "stdout"
        }
      ]
    },
    {
      "cell_type": "markdown",
      "metadata": {
        "id": "SMa8TAJAj_tO"
      },
      "source": [
        "你今天的心情如何？ **：很開心**。\n",
        "\n",
        "可以告訴我你 *開心* 的原因嗎？**因為週末了！** \n",
        "\n",
        "祝你週末愉快！\n",
        "\n",
        "我喜歡跟你聊天，現在有點累了，改天再聊吧！！\n",
        "\n",
        "再見 *Francis*！"
      ]
    },
    {
      "cell_type": "code",
      "metadata": {
        "colab": {
          "base_uri": "https://localhost:8080/"
        },
        "id": "hlj2I-EXj_tO",
        "outputId": "2b87dafe-6a3a-47d8-d311-fc340f2726b8"
      },
      "source": [
        "# 5. 關於心情的對話\n",
        "mood = input(\"你今天的心情如何?\")\n",
        "print(\"可以告訴我,你\",mood,\"的原因嗎?\")\n",
        "reason = input(\"為什麼:\")\n",
        "print(\"我知道了~謝謝分享\")"
      ],
      "execution_count": 26,
      "outputs": [
        {
          "output_type": "stream",
          "text": [
            "你今天的心情如何?開心\n",
            "可以告訴我,你 開心 的原因嗎?\n",
            "為什麼:不行\n",
            "我知道了~謝謝分享\n"
          ],
          "name": "stdout"
        }
      ]
    },
    {
      "cell_type": "markdown",
      "metadata": {
        "id": "HcDjDEyYj_tO"
      },
      "source": [
        "我喜歡跟你聊天，現在有點累了，改天再聊吧！！\n",
        "\n",
        "再見 *Francis*！"
      ]
    },
    {
      "cell_type": "code",
      "metadata": {
        "id": "UXhx7V_Yj_tO",
        "colab": {
          "base_uri": "https://localhost:8080/"
        },
        "outputId": "9432e44b-3f38-410f-e7f6-ee8832dd560e"
      },
      "source": [
        "# 6. 道別\n",
        "print(\"祝你周末愉快!\")\n",
        "print(\"我喜歡跟你聊天，現在有點累了,改天再聊吧!\")\n",
        "print(\"再見\",name,\"我喜歡跟你聊天!\")"
      ],
      "execution_count": 27,
      "outputs": [
        {
          "output_type": "stream",
          "text": [
            "祝你周末愉快!\n",
            "我喜歡跟你聊天，現在有點累了,改天再聊吧!\n",
            "再見 ingird 我喜歡跟你聊天!\n"
          ],
          "name": "stdout"
        }
      ]
    },
    {
      "cell_type": "markdown",
      "metadata": {
        "id": "Y8PK8fVKj_tP"
      },
      "source": [
        "## 期末報告"
      ]
    },
    {
      "cell_type": "markdown",
      "metadata": {
        "id": "uV2JawDhj_tP"
      },
      "source": [
        "### 組長(學號姓名):A109010057王舒詒\n"
      ]
    },
    {
      "cell_type": "markdown",
      "metadata": {
        "id": "30byAl_tj_tP"
      },
      "source": [
        "### 組員(學號姓名):A109010102吳靜怡 A109010111宋亭誼 A109010105蕭沁梅"
      ]
    },
    {
      "cell_type": "markdown",
      "metadata": {
        "id": "nJJizFTFj_tP"
      },
      "source": [
        "### 題目:火鍋店店員"
      ]
    },
    {
      "cell_type": "markdown",
      "metadata": {
        "id": "02gMi7NVj_tP"
      },
      "source": [
        "### 百字腳本\n",
        "\n"
      ]
    }
  ]
}